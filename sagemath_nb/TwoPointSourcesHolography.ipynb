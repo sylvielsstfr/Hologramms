{
 "cells": [
  {
   "cell_type": "markdown",
   "metadata": {},
   "source": [
    "# Two point sources Holography\n",
    "==============================================\n",
    "\n",
    "## Impact of the location of sources\n",
    "\n",
    "- author : Sylvie Dagoret-Campagne\n",
    "- affiliation : LAL/CNRS\n",
    "- date : April 10 2017\n",
    "\n",
    "\n",
    "From book of J.W Goodman \" Introduction à l'optique de Fourier et Holographie, Masson et Cie, 1972\".\n",
    "Chapter 8 : \"Formation des images par reconstruction des surfaces d'onde ou Holographie.\n",
    "\n",
    "\n",
    "To lauch the jupyter notebook do\n",
    "\n",
    "\n",
    "- sage -n jupyter\n"
   ]
  },
  {
   "cell_type": "markdown",
   "metadata": {},
   "source": [
    "## Théorie de l'holographie \n",
    "\n",
    "### Enregistrement de l'hologramme\n",
    "\n",
    "On enregistre l'hologramme avec deux sources ponctuelles.\n",
    "La longueur d'onde pour l'enregistrement est $\\lambda_1$\n",
    "\n",
    "- La source de référence positionnée en $(x_r,y_r,z_r)$ \n",
    "- L'objet est  positionné en $(x_o,y_o,z_o)$ \n",
    "- ${\\bf A}$ et${\\bf a}$ sont des constantes complexes)\n",
    "\n",
    "L'amplitude enregistrée sur l'hologramme est $U(x,y)$\n",
    "$$\n",
    "{\\bf U }(x,y) = {\\bf A }\\cdot \\exp \\left\\{ j \\frac{\\pi}{\\lambda_1 z_r} [(x-x_r)^2 + (y-y_r)^2] \\right\\} + {\\bf a }\\cdot \\exp \\left\\{ j \\frac{\\pi}{\\lambda_1 z_o} [(x-x_o)^2 + (y-y_o)^2] \\right\\}\n",
    "$$\n",
    "\n",
    "L'intensité enregistrée $I(x,y)$ est\n",
    "\n",
    "$$\n",
    "\\begin{array} {ccl}\n",
    "I(x,y) & = &|{\\bf A}|^2 + |{\\bf a}|^2  \\\\\n",
    "& + & {\\bf A^*} {\\bf a }\\cdot \\exp \\left\\{ -j \\frac{\\pi}{\\lambda_1 z_r} [ (x-x_r)^2 + (y-y_r)^2] + j \\frac{\\pi}{\\lambda_1 z_o} [ (x-x_o)^2 + (y-y_o)^2] \\right\\} \\\\\n",
    "& + & {\\bf A} {\\bf a^* }\\cdot \\exp \\left\\{ j \\frac{\\pi}{\\lambda_1 z_r} [ (x-x_r)^2 + (y-y_r)^2] - j \\frac{\\pi}{\\lambda_1 z_o} [ (x-x_o)^2 + (y-y_o)^2] \\right\\}\n",
    "\\end{array}\n",
    "$$\n",
    "\n",
    "L'hologramme enregistré présente donc 4 transmittances~:\n",
    "\n",
    "$$\n",
    "\\begin{array}{lcl}\n",
    "t_1 & = & \\beta^\\prime \\cdot |{\\bf A}|^2 \\\\\n",
    "t_2 & = & \\beta^\\prime \\cdot |{\\bf a}|^2 \\\\\n",
    "t_3(x,y) & = &  \\beta^\\prime \\cdot {\\bf A^*} {\\bf a }\\cdot \\exp \\left\\{ -j \\frac{\\pi}{\\lambda_1 z_r} [ (x-x_r)^2 + (y-y_r)^2] + j \\frac{\\pi}{\\lambda_1 z_o} [ (x-x_o)^2 + (y-y_o)^2] \\right\\} \\\\\n",
    "t_4(x,y) & = & \\beta^\\prime \\cdot {\\bf A} {\\bf a^* }\\cdot \\exp \\left\\{ j \\frac{\\pi}{\\lambda_1 z_r} [ (x-x_r)^2 + (y-y_r)^2] - j \\frac{\\pi}{\\lambda_1 z_o} [ (x-x_o)^2 + (y-y_o)^2] \\right\\}\n",
    "\\end{array}\n",
    "$$\n",
    "\n",
    "Notons que les transmittances $t_1,t_2$ donneront une composante directe.\n",
    "La transmittance $t_3(x,y)$ créera une image virtuelle et la transmittance $t_4(x,y)$ créera une image réelle.\n",
    "\n",
    "### Reconstruction de l'objet avec l'hologramme\n",
    "\n",
    "On éclaire  l'hologramme avec une onde sphérique positionnée en $(x_p,y_p,z_p)$:\n",
    "\n",
    "$$\n",
    "{\\bf U_p }(x,y) = {\\bf B }\\cdot \\exp \\left\\{ j \\frac{\\pi}{\\lambda_2 z_p} [(x-x_r)^2 + (y-y_r)^2] \\right\\}\n",
    "$$\n",
    "\n",
    "On obtient ainsi les ondes $U_1(x,y),\\cdots,U_4(x,y)$.\n",
    "\n",
    "$$\n",
    "\\begin{array}{lcl}\n",
    "{\\bf U_3}(x,y) & =  & t_3(x,y)\\cdot{\\bf B }\\cdot \\exp \\left\\{ j \\frac{\\pi}{\\lambda_2 z_p} [(x-x_r)^2 + (y-y_r)^2] \\right\\} \\\\\n",
    "{\\bf U_4}(x,y) & =  & t_4(x,y)\\cdot{\\bf B }\\cdot \\exp \\left\\{ j \\frac{\\pi}{\\lambda_2 z_p} [(x-x_r)^2 + (y-y_r)^2] \\right\\} \\\\\n",
    "\\end{array}\n",
    "$$\n"
   ]
  },
  {
   "cell_type": "markdown",
   "metadata": {},
   "source": [
    "### Définition de toutes les variables"
   ]
  },
  {
   "cell_type": "code",
   "execution_count": 3,
   "metadata": {
    "collapsed": true
   },
   "outputs": [],
   "source": [
    "x,y,z=var('x y z')  # position of point in space\n",
    "xr,yr,zr=var('xr yr zr')  # location of reference source point for hologram recording\n",
    "xo,yo,zo=var('xo yo zo')  # localtion of object point source of which one want to make a real image\n",
    "xp,yp,zp=var('xp yp zp')  # location of reference source for reconstruction\n",
    "lb1,lb2=var('lb1 lb2') # wavelengths for recording and reconstruction"
   ]
  },
  {
   "cell_type": "markdown",
   "metadata": {},
   "source": [
    "### Définition de la phase des fonctions t3 et t4"
   ]
  },
  {
   "cell_type": "code",
   "execution_count": 17,
   "metadata": {
    "collapsed": false
   },
   "outputs": [],
   "source": [
    "arg_t3(x,y,xr,yr,zr,xo,yo,zo,lb1)=-(pi/lb1/zr)*((x-xr)^2+(y-yr)^2) +(pi/lb1/zo)*((x-xo)^2+(y-yo)^2)"
   ]
  },
  {
   "cell_type": "code",
   "execution_count": 9,
   "metadata": {
    "collapsed": false
   },
   "outputs": [],
   "source": [
    "#arg_t3.expand()"
   ]
  },
  {
   "cell_type": "code",
   "execution_count": 18,
   "metadata": {
    "collapsed": true
   },
   "outputs": [],
   "source": [
    "arg_t4(x,y,xr,yr,zr,xo,yo,zo,lb1)=+(pi/lb1/zr)*((x-xr)^2+(y-yr)^2) -(pi/lb1/zo)*((x-xo)^2+(y-yo)^2)"
   ]
  },
  {
   "cell_type": "code",
   "execution_count": 10,
   "metadata": {
    "collapsed": false
   },
   "outputs": [],
   "source": [
    "#arg_t4.expand()"
   ]
  },
  {
   "cell_type": "markdown",
   "metadata": {},
   "source": [
    "### Définition de la phase de  $U_p$"
   ]
  },
  {
   "cell_type": "code",
   "execution_count": 19,
   "metadata": {
    "collapsed": true
   },
   "outputs": [],
   "source": [
    "arg_up(x,y,xp,yp,zp,lb2)=(pi/lb2/zp)*((x-xp)^2+(y-yp)^2)"
   ]
  },
  {
   "cell_type": "markdown",
   "metadata": {},
   "source": [
    "### définition de la phase de $U_3$ et $U_4$"
   ]
  },
  {
   "cell_type": "code",
   "execution_count": 21,
   "metadata": {
    "collapsed": false
   },
   "outputs": [],
   "source": [
    "arg_u3(x,y,xr,yr,zr,xo,yo,zo,xp,yp,zp,lb1,lb2)=arg_t3(x,y,xr,yr,zr,xo,yo,zo,lb1)+arg_up(x,y,xp,yp,zp,lb2)"
   ]
  },
  {
   "cell_type": "code",
   "execution_count": 20,
   "metadata": {
    "collapsed": true
   },
   "outputs": [],
   "source": [
    "arg_u4(x,y,xr,yr,zr,xo,yo,zo,xp,yp,zp,lb1,lb2)=arg_t4(x,y,xr,yr,zr,xo,yo,zo,lb1)+arg_up(x,y,xp,yp,zp,lb2)"
   ]
  },
  {
   "cell_type": "code",
   "execution_count": 28,
   "metadata": {
    "collapsed": false
   },
   "outputs": [
    {
     "data": {
      "text/html": [
       "<html><script type=\"math/tex; mode=display\">\\newcommand{\\Bold}[1]{\\mathbf{#1}}(x, y, xr, yr, zr, xo, yo, zo, xp, yp, zp, lb1, lb2) |--> pi*((x - xo)^2 + (y - yo)^2)/(lb1*zo) + pi*((x - xp)^2 + (y - yp)^2)/(lb2*zp) - pi*((x - xr)^2 + (y - yr)^2)/(lb1*zr)</script></html>"
      ],
      "text/plain": [
       "(x, y, xr, yr, zr, xo, yo, zo, xp, yp, zp, lb1, lb2) |--> pi*((x - xo)^2 + (y - yo)^2)/(lb1*zo) + pi*((x - xp)^2 + (y - yp)^2)/(lb2*zp) - pi*((x - xr)^2 + (y - yr)^2)/(lb1*zr)"
      ]
     },
     "metadata": {},
     "output_type": "display_data"
    }
   ],
   "source": [
    "show(LatexExpr(arg_u3))"
   ]
  },
  {
   "cell_type": "code",
   "execution_count": 23,
   "metadata": {
    "collapsed": false
   },
   "outputs": [
    {
     "data": {
      "text/html": [
       "<html><script type=\"math/tex; mode=display\">\\newcommand{\\Bold}[1]{\\mathbf{#1}}(x, y, xr, yr, zr, xo, yo, zo, xp, yp, zp, lb1, lb2) |--> -pi*((x - xo)^2 + (y - yo)^2)/(lb1*zo) + pi*((x - xp)^2 + (y - yp)^2)/(lb2*zp) + pi*((x - xr)^2 + (y - yr)^2)/(lb1*zr)</script></html>"
      ],
      "text/plain": [
       "(x, y, xr, yr, zr, xo, yo, zo, xp, yp, zp, lb1, lb2) |--> -pi*((x - xo)^2 + (y - yo)^2)/(lb1*zo) + pi*((x - xp)^2 + (y - yp)^2)/(lb2*zp) + pi*((x - xr)^2 + (y - yr)^2)/(lb1*zr)"
      ]
     },
     "metadata": {},
     "output_type": "display_data"
    }
   ],
   "source": [
    "show(LatexExpr(arg_u4))"
   ]
  },
  {
   "cell_type": "code",
   "execution_count": 29,
   "metadata": {
    "collapsed": false
   },
   "outputs": [
    {
     "data": {
      "text/plain": [
       "(x, y, xr, yr, zr, xo, yo, zo, xp, yp, zp, lb1, lb2) |--> pi*x^2/(lb1*zo) - 2*pi*x*xo/(lb1*zo) + pi*xo^2/(lb1*zo) + pi*y^2/(lb1*zo) - 2*pi*y*yo/(lb1*zo) + pi*yo^2/(lb1*zo) + pi*x^2/(lb2*zp) - 2*pi*x*xp/(lb2*zp) + pi*xp^2/(lb2*zp) + pi*y^2/(lb2*zp) - 2*pi*y*yp/(lb2*zp) + pi*yp^2/(lb2*zp) - pi*x^2/(lb1*zr) + 2*pi*x*xr/(lb1*zr) - pi*xr^2/(lb1*zr) - pi*y^2/(lb1*zr) + 2*pi*y*yr/(lb1*zr) - pi*yr^2/(lb1*zr)"
      ]
     },
     "execution_count": 29,
     "metadata": {},
     "output_type": "execute_result"
    }
   ],
   "source": [
    "arg_u3.expand()"
   ]
  },
  {
   "cell_type": "code",
   "execution_count": 50,
   "metadata": {
    "collapsed": false
   },
   "outputs": [],
   "source": [
    "dev_argu3=arg_u3.expand().collect(x).collect(y)"
   ]
  },
  {
   "cell_type": "markdown",
   "metadata": {},
   "source": [
    "#### $\\arg(U_3(x,y))$\n",
    "----------------------\n",
    "\n",
    "- regrouper les termes en $x^2+y^2$\n",
    "- regrouper les termes en $x x_i+y y_i$"
   ]
  },
  {
   "cell_type": "code",
   "execution_count": 51,
   "metadata": {
    "collapsed": false
   },
   "outputs": [
    {
     "data": {
      "text/html": [
       "<html><script type=\"math/tex; mode=display\">\\newcommand{\\Bold}[1]{\\mathbf{#1}}(x, y, xr, yr, zr, xo, yo, zo, xp, yp, zp, lb1, lb2) |--> x^2*(pi/(lb1*zo) + pi/(lb2*zp) - pi/(lb1*zr)) + y^2*(pi/(lb1*zo) + pi/(lb2*zp) - pi/(lb1*zr)) - 2*x*(pi*xo/(lb1*zo) + pi*xp/(lb2*zp) - pi*xr/(lb1*zr)) - 2*y*(pi*yo/(lb1*zo) + pi*yp/(lb2*zp) - pi*yr/(lb1*zr)) + pi*xo^2/(lb1*zo) + pi*yo^2/(lb1*zo) + pi*xp^2/(lb2*zp) + pi*yp^2/(lb2*zp) - pi*xr^2/(lb1*zr) - pi*yr^2/(lb1*zr)</script></html>"
      ],
      "text/plain": [
       "(x, y, xr, yr, zr, xo, yo, zo, xp, yp, zp, lb1, lb2) |--> x^2*(pi/(lb1*zo) + pi/(lb2*zp) - pi/(lb1*zr)) + y^2*(pi/(lb1*zo) + pi/(lb2*zp) - pi/(lb1*zr)) - 2*x*(pi*xo/(lb1*zo) + pi*xp/(lb2*zp) - pi*xr/(lb1*zr)) - 2*y*(pi*yo/(lb1*zo) + pi*yp/(lb2*zp) - pi*yr/(lb1*zr)) + pi*xo^2/(lb1*zo) + pi*yo^2/(lb1*zo) + pi*xp^2/(lb2*zp) + pi*yp^2/(lb2*zp) - pi*xr^2/(lb1*zr) - pi*yr^2/(lb1*zr)"
      ]
     },
     "metadata": {},
     "output_type": "display_data"
    }
   ],
   "source": [
    "show(LatexExpr(dev_argu3))"
   ]
  },
  {
   "cell_type": "code",
   "execution_count": 63,
   "metadata": {
    "collapsed": true
   },
   "outputs": [],
   "source": [
    "dev_argu4=arg_u4.expand().collect(x).collect(y)"
   ]
  },
  {
   "cell_type": "markdown",
   "metadata": {},
   "source": [
    "#### $\\arg(U_4(x,y))$\n",
    "---------------------"
   ]
  },
  {
   "cell_type": "code",
   "execution_count": 64,
   "metadata": {
    "collapsed": false
   },
   "outputs": [
    {
     "data": {
      "text/html": [
       "<html><script type=\"math/tex; mode=display\">\\newcommand{\\Bold}[1]{\\mathbf{#1}}(x, y, xr, yr, zr, xo, yo, zo, xp, yp, zp, lb1, lb2) |--> -x^2*(pi/(lb1*zo) - pi/(lb2*zp) - pi/(lb1*zr)) - y^2*(pi/(lb1*zo) - pi/(lb2*zp) - pi/(lb1*zr)) + 2*x*(pi*xo/(lb1*zo) - pi*xp/(lb2*zp) - pi*xr/(lb1*zr)) + 2*y*(pi*yo/(lb1*zo) - pi*yp/(lb2*zp) - pi*yr/(lb1*zr)) - pi*xo^2/(lb1*zo) - pi*yo^2/(lb1*zo) + pi*xp^2/(lb2*zp) + pi*yp^2/(lb2*zp) + pi*xr^2/(lb1*zr) + pi*yr^2/(lb1*zr)</script></html>"
      ],
      "text/plain": [
       "(x, y, xr, yr, zr, xo, yo, zo, xp, yp, zp, lb1, lb2) |--> -x^2*(pi/(lb1*zo) - pi/(lb2*zp) - pi/(lb1*zr)) - y^2*(pi/(lb1*zo) - pi/(lb2*zp) - pi/(lb1*zr)) + 2*x*(pi*xo/(lb1*zo) - pi*xp/(lb2*zp) - pi*xr/(lb1*zr)) + 2*y*(pi*yo/(lb1*zo) - pi*yp/(lb2*zp) - pi*yr/(lb1*zr)) - pi*xo^2/(lb1*zo) - pi*yo^2/(lb1*zo) + pi*xp^2/(lb2*zp) + pi*yp^2/(lb2*zp) + pi*xr^2/(lb1*zr) + pi*yr^2/(lb1*zr)"
      ]
     },
     "metadata": {},
     "output_type": "display_data"
    }
   ],
   "source": [
    "show(LatexExpr(dev_argu4))"
   ]
  },
  {
   "cell_type": "markdown",
   "metadata": {},
   "source": [
    "### Regroupement des termes en $(x^2+y^2)$ caractéristiques d'une onde sphérique convergente ou divergente\n",
    "\n",
    "Le terme caractéristique de l'image\n",
    "$$\n",
    "\\exp \\left\\{j \\frac{\\pi}{\\lambda_2 z_i} (x^2+y^2)\\right\\}\n",
    "$$\n",
    "permet d'exprimer $z_i$ en fonction de $z_p,z_r,z_o, \\lambda_1, \\lambda_2$\n"
   ]
  },
  {
   "cell_type": "code",
   "execution_count": 86,
   "metadata": {
    "collapsed": false
   },
   "outputs": [],
   "source": [
    "arg_t3_x2plusy2(zr,zo,zp,lb1,lb2)=pi*(1/lb1/zo+1/lb2/zp-1/lb1/zr)"
   ]
  },
  {
   "cell_type": "code",
   "execution_count": 87,
   "metadata": {
    "collapsed": true
   },
   "outputs": [],
   "source": [
    "arg_t4_x2plusy2(zr,zo,zp,lb1,lb2)=-pi*(1/lb1/zo+1/lb2/zp+1/lb1/zr)"
   ]
  },
  {
   "cell_type": "code",
   "execution_count": 88,
   "metadata": {
    "collapsed": true
   },
   "outputs": [],
   "source": [
    "arg_u_img(zi,lb2)=pi/lb2/zi"
   ]
  },
  {
   "cell_type": "markdown",
   "metadata": {},
   "source": [
    "#### Résolution d'équations"
   ]
  },
  {
   "cell_type": "code",
   "execution_count": 92,
   "metadata": {
    "collapsed": false
   },
   "outputs": [],
   "source": [
    "expr_zi1(zr,zo,zp,lb1,lb2)=(solve(arg_t3_x2plusy2(zr,zo,zp,lb1,lb2)==arg_u_img(zi,lb2),zi))[0].rhs()"
   ]
  },
  {
   "cell_type": "code",
   "execution_count": 93,
   "metadata": {
    "collapsed": false
   },
   "outputs": [],
   "source": [
    "expr_zi2(zr,zo,zp,lb1,lb2)=solve(arg_t4_x2plusy2(zr,zo,zp,lb1,lb2)==arg_u_img(zi,lb2),zi)[0].rhs()"
   ]
  },
  {
   "cell_type": "code",
   "execution_count": 147,
   "metadata": {
    "collapsed": false
   },
   "outputs": [
    {
     "data": {
      "text/plain": [
       "(zr, zo, zp, lb1, lb2) |--> -(lb2*zo*zp - lb1*zo*zr - lb2*zp*zr)/(lb1*zo*zp*zr)"
      ]
     },
     "execution_count": 147,
     "metadata": {},
     "output_type": "execute_result"
    }
   ],
   "source": [
    "(1/expr_zi1).factor()"
   ]
  },
  {
   "cell_type": "code",
   "execution_count": 133,
   "metadata": {
    "collapsed": false
   },
   "outputs": [
    {
     "data": {
      "text/plain": [
       "(zr, zo, zp, lb1, lb2) |--> -(lb2*zo*zp + lb1*zo*zr + lb2*zp*zr)/(lb1*zo*zp*zr)"
      ]
     },
     "execution_count": 133,
     "metadata": {},
     "output_type": "execute_result"
    }
   ],
   "source": [
    "(1/expr_zi2).factor()"
   ]
  },
  {
   "cell_type": "code",
   "execution_count": 149,
   "metadata": {
    "collapsed": false
   },
   "outputs": [
    {
     "data": {
      "image/png": "[encoded data removed]",
      "text/plain": [
       "Graphics object consisting of 2 graphics primitives"
      ]
     },
     "metadata": {},
     "output_type": "display_data"
    }
   ],
   "source": [
    "zr_0=56.6 # mm\n",
    "zo_0=56.6 # mm \n",
    "lb1_0=0.0007  # mm longeur d'onde d'enregistrement\n",
    "lb2_0=0.0006  # mm longueur d'onde de reconstruction\n",
    "p1=plot(expr_zi1(zr_0,zo_0,zp,lb1_0,lb2_0),(zp,-20,20),color='red')\n",
    "p2=plot(expr_zi2(zr_0,zo_0,zp,lb1_0,lb2_0),(zp,-20,20),color='blue')\n",
    "p3=p1+p2\n",
    "p3.show(axes_labels=('$z_p$ (mm)','$z_i$ (mm)'),figsize=(4,4))"
   ]
  },
  {
   "cell_type": "markdown",
   "metadata": {},
   "source": [
    "Je ne comprends pas trop la courbe bleue. Ce serait celle de l'image virtuelle ?\n",
    "\n",
    "Le résultat pour la distance $z$ du plan focal est :\n",
    "\n",
    "$$\n",
    "z_i= \\frac{1}{\\frac{1}{z_p} \\pm \\frac{\\lambda_2}{\\lambda_1}(\\frac{1}{z_0}-\\frac{1}{z_r})}\n",
    "$$\n",
    "\n",
    "Il suffit que $z_r=z_o$, pour que $z_i=z_p$ même si $\\lambda_1 \\neq \\lambda_2$"
   ]
  },
  {
   "cell_type": "markdown",
   "metadata": {},
   "source": [
    "### Regroupement des termes en $(x x_i+y y_i)$ \n",
    "\n",
    "Le terme\n",
    "$$\n",
    "\\exp \\left\\{-j\\frac{2\\pi}{\\lambda_2 z_i} (xx_i+y y_i )\\right\\}\n",
    "$$\n",
    "permet d'exprimer la position dans le plan de l'image $(x_i,y_i)$ en fonction de $z_p,z_r,z_o,z_i \\lambda_1, \\lambda_2$\n",
    "\n",
    "- de $U_3$:\n",
    "\n",
    "$$\n",
    "\\begin{array}{lcr}\n",
    "x_i & = & - \\frac{\\lambda_2}{\\lambda_1} \\frac{z_i}{z_0} x_0+ \\frac{\\lambda_2}{\\lambda_1} \\frac{z_i}{z_r} x_r + \\frac{z_i}{z_p} x_p \\\\\n",
    "y_i & = & - \\frac{\\lambda_2}{\\lambda_1} \\frac{z_i}{z_0} y_0+ \\frac{\\lambda_2}{\\lambda_1} \\frac{z_i}{z_r} y_r + \\frac{z_i}{z_p} y_p \n",
    "\\end{array}\n",
    "$$\n",
    "\n",
    "- de $U_4$:\n",
    "\n",
    "$$\n",
    "\\begin{array}{lcr}\n",
    "x_i & = &  \\frac{\\lambda_2}{\\lambda_1} \\frac{z_i}{z_0} x_0- \\frac{\\lambda_2}{\\lambda_1} \\frac{z_i}{z_r} x_r + \\frac{z_i}{z_p} x_p \\\\\n",
    "y_i & = &  \\frac{\\lambda_2}{\\lambda_1} \\frac{z_i}{z_0} y_0- \\frac{\\lambda_2}{\\lambda_1} \\frac{z_i}{z_r} y_r + \\frac{z_i}{z_p} y_p \n",
    "\\end{array}\n",
    "$$\n",
    "\n",
    "On a donc un agrandissement tel que\n",
    "\n",
    "$$\n",
    "\\left( \\mp \\frac{\\lambda_2}{\\lambda_1} \\frac{z_i}{z_o} \\Delta x_0, \\mp \\frac{\\lambda_2}{\\lambda_1} \\frac{z_i}{z_o} \\Delta y_0  \\right)\n",
    "$$\n",
    "\n"
   ]
  },
  {
   "cell_type": "code",
   "execution_count": null,
   "metadata": {
    "collapsed": true
   },
   "outputs": [],
   "source": []
  },
  {
   "cell_type": "code",
   "execution_count": null,
   "metadata": {
    "collapsed": true
   },
   "outputs": [],
   "source": []
  }
 ],
 "metadata": {
  "kernelspec": {
   "display_name": "SageMath 7.6",
   "language": "",
   "name": "sagemath"
  },
  "language_info": {
   "codemirror_mode": {
    "name": "ipython",
    "version": 2
   },
   "file_extension": ".py",
   "mimetype": "text/x-python",
   "name": "python",
   "nbconvert_exporter": "python",
   "pygments_lexer": "ipython2",
   "version": "2.7.13"
  }
 },
 "nbformat": 4,
 "nbformat_minor": 2
}
