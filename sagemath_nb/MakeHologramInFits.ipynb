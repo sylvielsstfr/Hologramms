{
 "cells": [
  {
   "cell_type": "markdown",
   "metadata": {
    "deletable": true,
    "editable": true
   },
   "source": [
    "# Generate an Hologram in a Fits file \n",
    "\n",
    "- author : Sylvie Dagoret-Campagne\n",
    "- affiliation : LAL/CNRS\n",
    "- date : March 27 2017\n"
   ]
  },
  {
   "cell_type": "code",
   "execution_count": 1,
   "metadata": {
    "collapsed": true,
    "deletable": true,
    "editable": true
   },
   "outputs": [],
   "source": [
    "%matplotlib inline\n",
    "import matplotlib.pyplot as plt\n",
    "from matplotlib.colors import LogNorm"
   ]
  },
  {
   "cell_type": "code",
   "execution_count": 2,
   "metadata": {
    "collapsed": true,
    "deletable": true,
    "editable": true
   },
   "outputs": [],
   "source": [
    "import numpy as np"
   ]
  },
  {
   "cell_type": "code",
   "execution_count": 3,
   "metadata": {
    "collapsed": true,
    "deletable": true,
    "editable": true
   },
   "outputs": [],
   "source": [
    "from astropy.io import fits"
   ]
  },
  {
   "cell_type": "code",
   "execution_count": 4,
   "metadata": {
    "collapsed": true,
    "deletable": true,
    "editable": true
   },
   "outputs": [],
   "source": [
    "from datetime import datetime, timedelta"
   ]
  },
  {
   "cell_type": "code",
   "execution_count": 5,
   "metadata": {
    "collapsed": true,
    "deletable": true,
    "editable": true
   },
   "outputs": [],
   "source": [
    "# to enlarge the sizes\n",
    "params = {'legend.fontsize': 'x-large',\n",
    "          'figure.figsize': (15, 7),\n",
    "         'axes.labelsize': 'x-large',\n",
    "         'axes.titlesize':'x-large',\n",
    "         'xtick.labelsize':'x-large',\n",
    "         'ytick.labelsize':'x-large'}\n",
    "plt.rcParams.update(params)\n"
   ]
  },
  {
   "cell_type": "code",
   "execution_count": 6,
   "metadata": {
    "collapsed": false,
    "deletable": true,
    "editable": true
   },
   "outputs": [
    {
     "name": "stdout",
     "output_type": "stream",
     "text": [
      "standard date format for the analysis : 2017-03-27 19:38:52.206944\n",
      "fits date format for the analysis :  2017-03-27T19:38:52\n"
     ]
    }
   ],
   "source": [
    "now=datetime.utcnow()  # choose UTC time\n",
    "datestr=str(now)\n",
    "print 'standard date format for the analysis :',datestr\n",
    "#  want the following format '2016-05-10T11:55:27.267'\n",
    "date_of_analysis=now.strftime('%Y-%m-%dT%H:%M:%S')\n",
    "print 'fits date format for the analysis : ',date_of_analysis"
   ]
  },
  {
   "cell_type": "markdown",
   "metadata": {
    "deletable": true,
    "editable": true
   },
   "source": [
    "# Fits file"
   ]
  },
  {
   "cell_type": "code",
   "execution_count": 7,
   "metadata": {
    "collapsed": true,
    "deletable": true,
    "editable": true
   },
   "outputs": [],
   "source": [
    "hologram_file='holo.fits'"
   ]
  },
  {
   "cell_type": "markdown",
   "metadata": {
    "deletable": true,
    "editable": true
   },
   "source": [
    "## Constants"
   ]
  },
  {
   "cell_type": "code",
   "execution_count": 8,
   "metadata": {
    "collapsed": true,
    "deletable": true,
    "editable": true
   },
   "outputs": [],
   "source": [
    "nm_to_mm= 1e-6"
   ]
  },
  {
   "cell_type": "code",
   "execution_count": 9,
   "metadata": {
    "collapsed": true,
    "deletable": true,
    "editable": true
   },
   "outputs": [],
   "source": [
    "mm_to_mum=1e3"
   ]
  },
  {
   "cell_type": "code",
   "execution_count": 10,
   "metadata": {
    "collapsed": true,
    "deletable": true,
    "editable": true
   },
   "outputs": [],
   "source": [
    "cm_to_mm=10"
   ]
  },
  {
   "cell_type": "code",
   "execution_count": 11,
   "metadata": {
    "collapsed": true,
    "deletable": true,
    "editable": true
   },
   "outputs": [],
   "source": [
    "cm_to_mum=cm_to_mm*mm_to_mum"
   ]
  },
  {
   "cell_type": "code",
   "execution_count": 12,
   "metadata": {
    "collapsed": false,
    "deletable": true,
    "editable": true
   },
   "outputs": [
    {
     "data": {
      "text/plain": [
       "10000.0"
      ]
     },
     "execution_count": 12,
     "metadata": {},
     "output_type": "execute_result"
    }
   ],
   "source": [
    "cm_to_mum"
   ]
  },
  {
   "cell_type": "markdown",
   "metadata": {
    "deletable": true,
    "editable": true
   },
   "source": [
    "## Hologram parameters"
   ]
  },
  {
   "cell_type": "code",
   "execution_count": 13,
   "metadata": {
    "collapsed": true,
    "deletable": true,
    "editable": true
   },
   "outputs": [],
   "source": [
    "dz=56.6 # mm  : distance between sources plane and hologram plane"
   ]
  },
  {
   "cell_type": "code",
   "execution_count": 14,
   "metadata": {
    "collapsed": true,
    "deletable": true,
    "editable": true
   },
   "outputs": [],
   "source": [
    "dy=6.4 # mm   : off-optical axis shift of one source wrt another"
   ]
  },
  {
   "cell_type": "code",
   "execution_count": 15,
   "metadata": {
    "collapsed": true,
    "deletable": true,
    "editable": true
   },
   "outputs": [],
   "source": [
    "XMIN=-1.5 # mm\n",
    "XMAX=1.5 # mm\n",
    "YMIN=-1.5 # mm\n",
    "YMAX=1.5 # mm"
   ]
  },
  {
   "cell_type": "code",
   "execution_count": 16,
   "metadata": {
    "collapsed": true,
    "deletable": true,
    "editable": true
   },
   "outputs": [],
   "source": [
    "NBPOINTS=30000  # array size"
   ]
  },
  {
   "cell_type": "markdown",
   "metadata": {
    "deletable": true,
    "editable": true
   },
   "source": [
    "## Units\n",
    "\n",
    "- all in mm"
   ]
  },
  {
   "cell_type": "code",
   "execution_count": 17,
   "metadata": {
    "collapsed": true,
    "deletable": true,
    "editable": true
   },
   "outputs": [],
   "source": [
    "lambda_0=600*nm_to_mm # nm to mm"
   ]
  },
  {
   "cell_type": "markdown",
   "metadata": {
    "deletable": true,
    "editable": true
   },
   "source": [
    "## Définition de l'amplitude d'une source ponctuelle\n",
    "\n",
    "\n",
    "- soit une source monochromatique de longueur d'onde $\\lambda_0$, placée en $O(0,0,0)$, on considère l'amplitude en $M(x,y,z)$\n",
    "\n",
    "$$\n",
    "U(x,y,z) = \\frac{\\cos (\\vec{k} \\cdot \\vec{OM} - \\omega t)}{\\| \\vec{OM} \\|}  = \\frac{\\cos (\\frac{2 \\pi}{\\lambda_0}\\sqrt{x^2+y^2+z^2} -\\omega t)}{\\sqrt{x^2+y^2+z^2}}\n",
    "$$\n",
    "\n",
    "Par la suite, on se place à un instant fixé $t$. La dépendance temporelle peut être éliminée\n"
   ]
  },
  {
   "cell_type": "code",
   "execution_count": 18,
   "metadata": {
    "collapsed": false,
    "deletable": true,
    "editable": true
   },
   "outputs": [],
   "source": [
    "def U(x,y,z):\n",
    "    ampl = np.cos(2*np.pi*np.sqrt(x**2+y**2+z**2)/lambda_0)/np.sqrt(x**2+y**2+z**2)\n",
    "    return ampl"
   ]
  },
  {
   "cell_type": "markdown",
   "metadata": {
    "deletable": true,
    "editable": true
   },
   "source": [
    "## Amplitude au niveau de la source"
   ]
  },
  {
   "cell_type": "code",
   "execution_count": 19,
   "metadata": {
    "collapsed": true,
    "deletable": true,
    "editable": true
   },
   "outputs": [],
   "source": [
    "FlagPlot=False"
   ]
  },
  {
   "cell_type": "code",
   "execution_count": 20,
   "metadata": {
    "collapsed": false,
    "deletable": true,
    "editable": true
   },
   "outputs": [],
   "source": [
    "\n",
    "X=np.linspace(XMIN,XMAX,NBPOINTS)\n",
    "Y=np.zeros(NBPOINTS)\n",
    "Z=np.zeros(NBPOINTS)\n",
    "theU=U(X,Y,Z)"
   ]
  },
  {
   "cell_type": "code",
   "execution_count": 21,
   "metadata": {
    "collapsed": false,
    "deletable": true,
    "editable": true
   },
   "outputs": [
    {
     "data": {
      "text/plain": [
       "<matplotlib.text.Text at 0x1109f2c10>"
      ]
     },
     "execution_count": 21,
     "metadata": {},
     "output_type": "execute_result"
    },
    {
     "data": {
      "image/png": "[encoded data removed]",
      "text/plain": [
       "<matplotlib.figure.Figure at 0x1109e3750>"
      ]
     },
     "metadata": {},
     "output_type": "display_data"
    }
   ],
   "source": [
    "plt.semilogy(X,theU)\n",
    "plt.grid(True)\n",
    "title=\"amplitude inside source plane at y=0\"\n",
    "plt.title(title)\n",
    "plt.xlabel('$x$ (mm)')\n",
    "plt.ylabel('amplitude')"
   ]
  },
  {
   "cell_type": "code",
   "execution_count": 22,
   "metadata": {
    "collapsed": false,
    "deletable": true,
    "editable": true
   },
   "outputs": [],
   "source": [
    "X=np.linspace(XMIN,XMAX,NBPOINTS)\n",
    "Y=np.linspace(YMIN,YMAX,NBPOINTS)\n",
    "Z=np.zeros(NBPOINTS)"
   ]
  },
  {
   "cell_type": "code",
   "execution_count": 23,
   "metadata": {
    "collapsed": false,
    "deletable": true,
    "editable": true
   },
   "outputs": [],
   "source": [
    "xv, yv = np.meshgrid(X, Y)"
   ]
  },
  {
   "cell_type": "code",
   "execution_count": 24,
   "metadata": {
    "collapsed": false,
    "deletable": true,
    "editable": true
   },
   "outputs": [],
   "source": [
    "U0=U(xv,yv,0)"
   ]
  },
  {
   "cell_type": "code",
   "execution_count": 25,
   "metadata": {
    "collapsed": false,
    "deletable": true,
    "editable": true
   },
   "outputs": [],
   "source": [
    "if FlagPlot:\n",
    "    plt.figure(figsize=(10,10))\n",
    "    plt.imshow(U0,cmap='gray',extent=[X.min(),X.max(),Y.min(),Y.max()],aspect=1,norm=LogNorm(vmin=0.1, vmax=1000.))\n",
    "    title=\"amplitude inside source plane\"\n",
    "    plt.title(title)\n",
    "    plt.xlabel('$x$ (mm)')\n",
    "    plt.ylabel('$y$ (mm)')\n",
    "    plt.colorbar()"
   ]
  },
  {
   "cell_type": "markdown",
   "metadata": {
    "deletable": true,
    "editable": true
   },
   "source": [
    "## Dans le plan de l'hologramme"
   ]
  },
  {
   "cell_type": "markdown",
   "metadata": {
    "deletable": true,
    "editable": true
   },
   "source": [
    "### Source placée sur l'axe optique\n",
    "\n",
    "\n",
    "On se place maintenant dans le plan de l'hologramme qui est à la distance z=-dz de la source $S1$ placée sur l'axe\n",
    "optique $z$.\n",
    "L'amplitude de $S1$ and le plan de l'hologramme est\n",
    "\n",
    "\n",
    "$$\n",
    "U_1(x,y)=U(x,y,-dz)= \\frac{\\cos (\\frac{2 \\pi}{\\lambda_0}\\sqrt{x^2+y^2+(dz)^2})}{\\sqrt{x^2+y^2+(dz)^2}}\n",
    "$$\n"
   ]
  },
  {
   "cell_type": "code",
   "execution_count": 26,
   "metadata": {
    "collapsed": true,
    "deletable": true,
    "editable": true
   },
   "outputs": [],
   "source": [
    "U1=U(xv,yv,-dz)"
   ]
  },
  {
   "cell_type": "code",
   "execution_count": 27,
   "metadata": {
    "collapsed": false,
    "deletable": true,
    "editable": true
   },
   "outputs": [],
   "source": [
    "if FlagPlot:\n",
    "    plt.figure(figsize=(10,10))\n",
    "    plt.imshow(U1,cmap='gray',extent=[X.min(),X.max(),Y.min(),Y.max()],aspect=1)\n",
    "    title=\"amplitude inside hologram plane, On-axe source\"\n",
    "    plt.title(title)\n",
    "    plt.xlabel('$x$ (mm)')\n",
    "    plt.ylabel('$y$ (mm)')\n",
    "    plt.colorbar()"
   ]
  },
  {
   "cell_type": "markdown",
   "metadata": {
    "deletable": true,
    "editable": true
   },
   "source": [
    "### Source hors axe optique\n",
    "\n",
    "On se place maintenant dans le plan de l'hologramme qui est à la distance z=-dz de la source $S2$ déplacée de $dy$ hors axe\n",
    "optique.\n",
    "L'amplitude de $S1$ and le plan de l'hologramme est\n",
    "\n",
    "\n",
    "$$\n",
    "U_2(x,y)=U(x,y+dy,-dz)= \\frac{\\cos (\\frac{2 \\pi}{\\lambda_0}\\sqrt{x^2+(y+dy)^2+(dz)^2})}{\\sqrt{x^2+(y+dy)^2+(dz)^2}}\n",
    "$$\n",
    "\n",
    "\n"
   ]
  },
  {
   "cell_type": "code",
   "execution_count": 28,
   "metadata": {
    "collapsed": true,
    "deletable": true,
    "editable": true
   },
   "outputs": [],
   "source": [
    "U2=U(xv,yv+dy,-dz)"
   ]
  },
  {
   "cell_type": "code",
   "execution_count": 29,
   "metadata": {
    "collapsed": false,
    "deletable": true,
    "editable": true
   },
   "outputs": [],
   "source": [
    "if FlagPlot:\n",
    "    plt.figure(figsize=(10,10))\n",
    "    plt.imshow(U2,cmap='gray',extent=[X.min(),X.max(),Y.min(),Y.max()],aspect=1)\n",
    "    title=\"amplitude inside hologram plane, Off-axe source\"\n",
    "    plt.title(title)\n",
    "    plt.xlabel('$x$ (mm)')\n",
    "    plt.ylabel('$y$ (mm)')\n",
    "    plt.colorbar()"
   ]
  },
  {
   "cell_type": "markdown",
   "metadata": {
    "deletable": true,
    "editable": true
   },
   "source": [
    "## Somme des amplitudes\n",
    "\n",
    "\n",
    "Les amplitudes des deux sources $S1$ et $S2$ interfèrent.\n",
    "Dans le plan de l'hologramme, on obtient l'amplitude:\n",
    "$$\n",
    "U(x,y)=U_1(x,y)+U_2(x,y)= \\frac{\\cos (\\frac{2 \\pi}{\\lambda_0}\\sqrt{x^2+y^2+(dz)^2})}{\\sqrt{x^2+y^2+(dz)^2}}+\\frac{ \\cos (\\frac{2 \\pi}{\\lambda_0}\\sqrt{x^2+(y+dy)^2+(dz)^2})}{\\sqrt{x^2+(y+dy)^2+(dz)^2}}\n",
    "$$"
   ]
  },
  {
   "cell_type": "code",
   "execution_count": 30,
   "metadata": {
    "collapsed": false,
    "deletable": true,
    "editable": true
   },
   "outputs": [],
   "source": [
    "U3=U1+U2"
   ]
  },
  {
   "cell_type": "code",
   "execution_count": 31,
   "metadata": {
    "collapsed": false,
    "deletable": true,
    "editable": true
   },
   "outputs": [],
   "source": [
    "if FlagPlot:\n",
    "    plt.figure(figsize=(10,10))\n",
    "    plt.imshow(U3,cmap='gray',extent=[X.min(),X.max(),Y.min(),Y.max()],aspect=1)\n",
    "    title=\"Amplitude sum inside hologram plane\"\n",
    "    plt.title(title)\n",
    "    plt.xlabel('$x$ (mm)')\n",
    "    plt.ylabel('$y$ (mm)')\n",
    "    plt.colorbar()"
   ]
  },
  {
   "cell_type": "markdown",
   "metadata": {
    "deletable": true,
    "editable": true
   },
   "source": [
    "## Intensité\n",
    "Les amplitudes des deux sources $S1$ et $S2$ interfèrent.\n",
    "Dans le plan de l'hologramme, on obtient l'intensité:\n",
    "$$\n",
    "I(x,y)= \\left\\| U_1(x,y)+U_2(x,y) \\right\\|^2= \\left\\| \\frac{\\cos (\\frac{2 \\pi}{\\lambda_0}\\sqrt{x^2+y^2+(dz)^2})}{\\sqrt{x^2+y^2+(dz)^2}}+\\frac{ \\cos (\\frac{2 \\pi}{\\lambda_0}\\sqrt{x^2+(y+dy)^2+(dz)^2})}{\\sqrt{x^2+(y+dy)^2+(dz)^2}} \\right\\|^2\n",
    "$$\n"
   ]
  },
  {
   "cell_type": "code",
   "execution_count": 32,
   "metadata": {
    "collapsed": true,
    "deletable": true,
    "editable": true
   },
   "outputs": [],
   "source": [
    "U4=U3**2"
   ]
  },
  {
   "cell_type": "code",
   "execution_count": 33,
   "metadata": {
    "collapsed": false,
    "deletable": true,
    "editable": true
   },
   "outputs": [],
   "source": [
    "if FlagPlot:\n",
    "    plt.figure(figsize=(10,10))\n",
    "    plt.imshow(U4,cmap='gray',extent=[X.min(),X.max(),Y.min(),Y.max()],aspect=1)\n",
    "    title=\"Intensity (amplitude sum) inside hologram plane\"\n",
    "    plt.title(title)\n",
    "    plt.xlabel('$x$ (mm)')\n",
    "    plt.ylabel('$y$ (mm)')\n",
    "    plt.colorbar()"
   ]
  },
  {
   "cell_type": "code",
   "execution_count": 34,
   "metadata": {
    "collapsed": true,
    "deletable": true,
    "editable": true
   },
   "outputs": [],
   "source": [
    "U5=U4[:,NBPOINTS/2]"
   ]
  },
  {
   "cell_type": "code",
   "execution_count": 35,
   "metadata": {
    "collapsed": false,
    "deletable": true,
    "editable": true
   },
   "outputs": [
    {
     "data": {
      "text/plain": [
       "<matplotlib.text.Text at 0x1111f9ad0>"
      ]
     },
     "execution_count": 35,
     "metadata": {},
     "output_type": "execute_result"
    },
    {
     "data": {
      "image/png": "[encoded data removed]",
      "text/plain": [
       "<matplotlib.figure.Figure at 0x110921a90>"
      ]
     },
     "metadata": {},
     "output_type": "display_data"
    }
   ],
   "source": [
    "plt.plot(Y,U5)\n",
    "title=\"amplitude inside source plane at x=0\"\n",
    "plt.title(title)\n",
    "plt.xlabel('$y$ (mm)')\n",
    "plt.ylabel('Instensity for x=0')"
   ]
  },
  {
   "cell_type": "code",
   "execution_count": 36,
   "metadata": {
    "collapsed": false,
    "deletable": true,
    "editable": true
   },
   "outputs": [
    {
     "data": {
      "text/plain": [
       "(30000, 30000)"
      ]
     },
     "execution_count": 36,
     "metadata": {},
     "output_type": "execute_result"
    }
   ],
   "source": [
    "U4.shape"
   ]
  },
  {
   "cell_type": "code",
   "execution_count": 37,
   "metadata": {
    "collapsed": false,
    "deletable": true,
    "editable": true
   },
   "outputs": [],
   "source": [
    "if FlagPlot:\n",
    "    plt.imshow(U4,cmap='gray',extent=[X.min(),X.max(),Y.min(),Y.max()],aspect=1)"
   ]
  },
  {
   "cell_type": "markdown",
   "metadata": {
    "deletable": true,
    "editable": true
   },
   "source": [
    "# Save fits file"
   ]
  },
  {
   "cell_type": "code",
   "execution_count": 38,
   "metadata": {
    "collapsed": true,
    "deletable": true,
    "editable": true
   },
   "outputs": [],
   "source": [
    "hdu = fits.PrimaryHDU(U4)"
   ]
  },
  {
   "cell_type": "code",
   "execution_count": 39,
   "metadata": {
    "collapsed": false,
    "deletable": true,
    "editable": true
   },
   "outputs": [],
   "source": [
    "hdu.header[\"DATE\"]= date_of_analysis"
   ]
  },
  {
   "cell_type": "code",
   "execution_count": 40,
   "metadata": {
    "collapsed": true,
    "deletable": true,
    "editable": true
   },
   "outputs": [],
   "source": [
    "hdu.header[\"XMIN\"]=XMIN\n",
    "hdu.header[\"XMAX\"]=XMAX\n",
    "hdu.header[\"YMIN\"]=YMIN\n",
    "hdu.header[\"YMAX\"]=YMAX"
   ]
  },
  {
   "cell_type": "code",
   "execution_count": 41,
   "metadata": {
    "collapsed": true,
    "deletable": true,
    "editable": true
   },
   "outputs": [],
   "source": [
    "hdu.header[\"WL0\"]=lambda_0\n",
    "hdu.header[\"UNITS\"]=\"mm\"\n",
    "hdu.header[\"AUTHOR\"]=\"Sylvie Dagoret-Campagne\"\n",
    "hdu.header[\"AFFIL\"]=\"LAL/IN2P3/CNRS\"\n",
    "hdu.header[\"COMMENT\"]=\"Hologram 200 lines per mm\""
   ]
  },
  {
   "cell_type": "code",
   "execution_count": 42,
   "metadata": {
    "collapsed": false,
    "deletable": true,
    "editable": true
   },
   "outputs": [],
   "source": [
    "hdulist = fits.HDUList([hdu])\n",
    "hdulist.writeto(hologram_file,overwrite=True)"
   ]
  },
  {
   "cell_type": "code",
   "execution_count": null,
   "metadata": {
    "collapsed": true,
    "deletable": true,
    "editable": true
   },
   "outputs": [],
   "source": []
  }
 ],
 "metadata": {
  "anaconda-cloud": {},
  "kernelspec": {
   "display_name": "Python [conda env:pyastrophys]",
   "language": "python",
   "name": "conda-env-pyastrophys-py"
  },
  "language_info": {
   "codemirror_mode": {
    "name": "ipython",
    "version": 2
   },
   "file_extension": ".py",
   "mimetype": "text/x-python",
   "name": "python",
   "nbconvert_exporter": "python",
   "pygments_lexer": "ipython2",
   "version": "2.7.12"
  }
 },
 "nbformat": 4,
 "nbformat_minor": 0
}
